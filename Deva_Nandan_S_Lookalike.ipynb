{
 "cells": [
  {
   "cell_type": "markdown",
   "id": "eee24db5",
   "metadata": {},
   "source": [
    "# Lookalike Model"
   ]
  },
  {
   "cell_type": "code",
   "execution_count": 2,
   "id": "e1dd1faf",
   "metadata": {},
   "outputs": [],
   "source": [
    "import pandas as pd\n",
    "import numpy as np\n",
    "from sklearn.preprocessing import StandardScaler, OneHotEncoder\n",
    "from sklearn.metrics.pairwise import cosine_similarity"
   ]
  },
  {
   "cell_type": "markdown",
   "id": "4b8698b0",
   "metadata": {},
   "source": [
    "<b>Importing Data</b>"
   ]
  },
  {
   "cell_type": "code",
   "execution_count": 3,
   "id": "75e13420",
   "metadata": {},
   "outputs": [],
   "source": [
    "cdf = pd.read_csv(\"Customers.csv\")\n",
    "pdf = pd.read_csv(\"Products.csv\")\n",
    "tdf = pd.read_csv(\"Transactions.csv\")"
   ]
  },
  {
   "cell_type": "markdown",
   "id": "a5122c53",
   "metadata": {},
   "source": [
    "<b>Data Preprocessing</b>"
   ]
  },
  {
   "cell_type": "code",
   "execution_count": 4,
   "id": "2c2b1180",
   "metadata": {},
   "outputs": [
    {
     "name": "stderr",
     "output_type": "stream",
     "text": [
      "D:\\APP\\Anaconda\\Lib\\site-packages\\sklearn\\preprocessing\\_encoders.py:972: FutureWarning: `sparse` was renamed to `sparse_output` in version 1.2 and will be removed in 1.4. `sparse_output` is ignored unless you leave `sparse` to its default value.\n",
      "  warnings.warn(\n"
     ]
    }
   ],
   "source": [
    "cdf[\"SignupDate\"] = pd.to_datetime(cdf[\"SignupDate\"])\n",
    "\n",
    "customer_transactions = tdf.groupby(\"CustomerID\").agg(\n",
    "    TotalSpent=(\"TotalValue\", \"sum\"),\n",
    "    AvgTransactionValue=(\"TotalValue\", \"mean\"),\n",
    "    PurchaseCount=(\"TransactionID\", \"count\"),\n",
    "    UniqueProducts=(\"ProductID\", \"nunique\")\n",
    ").reset_index()\n",
    "\n",
    "customer_profiles = pd.merge(cdf, customer_transactions, on=\"CustomerID\", how=\"left\").fillna(0)\n",
    "\n",
    "encoder = OneHotEncoder(sparse=False, drop=\"first\")\n",
    "region_encoded = encoder.fit_transform(customer_profiles[[\"Region\"]])\n",
    "region_df = pd.DataFrame(region_encoded, columns=encoder.get_feature_names_out([\"Region\"]))\n",
    "customer_profiles = pd.concat([customer_profiles, region_df], axis=1).drop(columns=[\"Region\", \"CustomerName\", \"SignupDate\"])\n",
    "\n",
    "scaler = StandardScaler()\n",
    "numerical_features = [\"TotalSpent\", \"AvgTransactionValue\", \"PurchaseCount\", \"UniqueProducts\"]\n",
    "customer_profiles[numerical_features] = scaler.fit_transform(customer_profiles[numerical_features])"
   ]
  },
  {
   "cell_type": "markdown",
   "id": "fb7b3691",
   "metadata": {},
   "source": [
    "<b>Customer Profile Attributes:</b>\n",
    "    \n",
    "TotalSpent → Sum of all transactions for a customer. <br>\n",
    "AvgTransactionValue → Average amount spent per transaction. <br>\n",
    "PurchaseCount → Total number of transactions made by the customer. <br>\n",
    "UniqueProducts → Number of different products purchased by the customer."
   ]
  },
  {
   "cell_type": "markdown",
   "id": "a3e031ef",
   "metadata": {},
   "source": [
    "Standardization the values ensures that all numerical features are on the same scale and helps for similarity calculations."
   ]
  },
  {
   "cell_type": "markdown",
   "id": "2bc33ac6",
   "metadata": {},
   "source": [
    "<b>Similarity Matrix</b>"
   ]
  },
  {
   "cell_type": "code",
   "execution_count": 5,
   "id": "8e060941",
   "metadata": {},
   "outputs": [],
   "source": [
    "customer_matrix = customer_profiles.set_index(\"CustomerID\").values\n",
    "similarity_matrix = cosine_similarity(customer_matrix)"
   ]
  },
  {
   "cell_type": "markdown",
   "id": "ade9d96c",
   "metadata": {},
   "source": [
    "Converted the processed DataFrame into a matrix. <br>\n",
    "Compute cosine similarity, which measures how similar two customers are based on their profile. <br>\n",
    "It Works well for sparse data. <br>\n",
    "Measures how close customer profiles are in a multi-dimensional space. <br>"
   ]
  },
  {
   "cell_type": "markdown",
   "id": "0ebf4aa7",
   "metadata": {},
   "source": [
    "<b>Top 3 similar customers</b>"
   ]
  },
  {
   "cell_type": "code",
   "execution_count": 6,
   "id": "d6375e18",
   "metadata": {},
   "outputs": [],
   "source": [
    "customer_ids = customer_profiles[\"CustomerID\"].values\n",
    "lookalike_dict = {}\n",
    "\n",
    "for idx, cust_id in enumerate(customer_ids[:20]):  # First 20 customers\n",
    "    sim_scores = list(enumerate(similarity_matrix[idx]))\n",
    "    sim_scores = sorted(sim_scores, key=lambda x: x[1], reverse=True)[1:4]  # Top 3 excluding itself\n",
    "    lookalike_dict[cust_id] = [(customer_ids[i], round(score, 4)) for i, score in sim_scores]\n"
   ]
  },
  {
   "cell_type": "markdown",
   "id": "962e6e65",
   "metadata": {},
   "source": [
    "<b>Results to Lookalike.csv</b>"
   ]
  },
  {
   "cell_type": "code",
   "execution_count": 7,
   "id": "662f5f70",
   "metadata": {},
   "outputs": [],
   "source": [
    "lookalike_df = pd.DataFrame([(cust_id, sim[0], sim[1]) for cust_id, sims in lookalike_dict.items() for sim in sims],\n",
    "                            columns=[\"CustomerID\", \"LookalikeID\", \"SimilarityScore\"])\n",
    "lookalike_df.to_csv(\"Lookalike.csv\", index=False)"
   ]
  },
  {
   "cell_type": "code",
   "execution_count": 9,
   "id": "444a11f2",
   "metadata": {},
   "outputs": [
    {
     "data": {
      "text/html": [
       "<div>\n",
       "<style scoped>\n",
       "    .dataframe tbody tr th:only-of-type {\n",
       "        vertical-align: middle;\n",
       "    }\n",
       "\n",
       "    .dataframe tbody tr th {\n",
       "        vertical-align: top;\n",
       "    }\n",
       "\n",
       "    .dataframe thead th {\n",
       "        text-align: right;\n",
       "    }\n",
       "</style>\n",
       "<table border=\"1\" class=\"dataframe\">\n",
       "  <thead>\n",
       "    <tr style=\"text-align: right;\">\n",
       "      <th></th>\n",
       "      <th>CustomerID</th>\n",
       "      <th>LookalikeID</th>\n",
       "      <th>SimilarityScore</th>\n",
       "    </tr>\n",
       "  </thead>\n",
       "  <tbody>\n",
       "    <tr>\n",
       "      <th>0</th>\n",
       "      <td>C0001</td>\n",
       "      <td>C0137</td>\n",
       "      <td>0.9998</td>\n",
       "    </tr>\n",
       "    <tr>\n",
       "      <th>1</th>\n",
       "      <td>C0001</td>\n",
       "      <td>C0152</td>\n",
       "      <td>0.9995</td>\n",
       "    </tr>\n",
       "    <tr>\n",
       "      <th>2</th>\n",
       "      <td>C0001</td>\n",
       "      <td>C0107</td>\n",
       "      <td>0.9654</td>\n",
       "    </tr>\n",
       "    <tr>\n",
       "      <th>3</th>\n",
       "      <td>C0002</td>\n",
       "      <td>C0043</td>\n",
       "      <td>0.9870</td>\n",
       "    </tr>\n",
       "    <tr>\n",
       "      <th>4</th>\n",
       "      <td>C0002</td>\n",
       "      <td>C0142</td>\n",
       "      <td>0.9769</td>\n",
       "    </tr>\n",
       "  </tbody>\n",
       "</table>\n",
       "</div>"
      ],
      "text/plain": [
       "  CustomerID LookalikeID  SimilarityScore\n",
       "0      C0001       C0137           0.9998\n",
       "1      C0001       C0152           0.9995\n",
       "2      C0001       C0107           0.9654\n",
       "3      C0002       C0043           0.9870\n",
       "4      C0002       C0142           0.9769"
      ]
     },
     "execution_count": 9,
     "metadata": {},
     "output_type": "execute_result"
    }
   ],
   "source": [
    "lookalike_df.head()"
   ]
  }
 ],
 "metadata": {
  "kernelspec": {
   "display_name": "Python 3 (ipykernel)",
   "language": "python",
   "name": "python3"
  },
  "language_info": {
   "codemirror_mode": {
    "name": "ipython",
    "version": 3
   },
   "file_extension": ".py",
   "mimetype": "text/x-python",
   "name": "python",
   "nbconvert_exporter": "python",
   "pygments_lexer": "ipython3",
   "version": "3.11.5"
  }
 },
 "nbformat": 4,
 "nbformat_minor": 5
}
